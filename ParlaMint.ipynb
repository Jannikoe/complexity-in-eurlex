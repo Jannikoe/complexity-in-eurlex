{
 "cells": [
  {
   "cell_type": "code",
   "execution_count": null,
   "id": "1d7bb470",
   "metadata": {},
   "outputs": [],
   "source": [
    "import fnmatch\n",
    "import os\n",
    "\n",
    "start_path = r'C:\\Users\\Jannik\\Documents\\Uni\\Allgemeine Sprachwissenschaft\\Bachelorarbeit\\ParlaMint-AT\\ParlaMint-AT\\ParlaMint-AT.txt' \n",
    "output_dir = r'C:\\Users\\Jannik\\Documents\\Uni\\Allgemeine Sprachwissenschaft\\Bachelorarbeit\\ParlaMintAT'\n",
    "\n",
    "for name in os.listdir(start_path):\n",
    "    if name.endswith('.txt') == False:\n",
    "        folder_paths = os.path.join(start_path, name)\n",
    "        for file in os.listdir(folder_paths):\n",
    "            if fnmatch.fnmatch(file, '*.txt'):\n",
    "                filename = os.path.join(folder_paths, f'{file}')\n",
    "                target = os.path.join(output_dir, f'{file}')\n",
    "                with open(filename, \"r\", encoding='utf-8') as file:\n",
    "                    content = file.read()\n",
    "                with open(target, \"w\", encoding='utf-8') as file:\n",
    "                    file.write(f'{content}')"
   ]
  },
  {
   "cell_type": "code",
   "execution_count": 51,
   "id": "8f17b9d8",
   "metadata": {},
   "outputs": [
    {
     "name": "stdout",
     "output_type": "stream",
     "text": [
      "C:\\Users\\Jannik\\Documents\\Uni\\Allgemeine Sprachwissenschaft\\Bachelorarbeit\\ParlaMintAT\\Neuer Ordner\\ParlaMint-AT_1996-02-29-020-XX-NRSITZ-00009.txt\n"
     ]
    }
   ],
   "source": [
    "import os\n",
    "import re\n",
    " \n",
    "output_dir = r'C:\\Users\\Jannik\\Documents\\Uni\\Allgemeine Sprachwissenschaft\\Bachelorarbeit\\ParlaMintAT\\'\n",
    "\n",
    "#remove IDs\n",
    "for name in os.listdir(output_dir):\n",
    "    filename = os.path.join(output_dir, name)\n",
    "    print(filename)\n",
    "    with open(filename, \"r\", encoding='utf-8') as file:\n",
    "        s = file.read()\n",
    "        with open(filename, \"w\", encoding='utf-8') as file:\n",
    "            no_ID = re.sub('ParlaMint[^\\s]+\\s', '', s)\n",
    "            no_annotations = re.sub(r'\\[\\[[^\\]]+\\]\\]', '', no_ID)\n",
    "            file.write(f'{no_annotations}')"
   ]
  },
  {
   "cell_type": "code",
   "execution_count": null,
   "id": "2ad02b99",
   "metadata": {},
   "outputs": [],
   "source": []
  }
 ],
 "metadata": {
  "kernelspec": {
   "display_name": "Python 3 (ipykernel)",
   "language": "python",
   "name": "python3"
  },
  "language_info": {
   "codemirror_mode": {
    "name": "ipython",
    "version": 3
   },
   "file_extension": ".py",
   "mimetype": "text/x-python",
   "name": "python",
   "nbconvert_exporter": "python",
   "pygments_lexer": "ipython3",
   "version": "3.9.12"
  }
 },
 "nbformat": 4,
 "nbformat_minor": 5
}
