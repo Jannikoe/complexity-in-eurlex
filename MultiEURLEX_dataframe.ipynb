{
 "cells": [
  {
   "cell_type": "code",
   "execution_count": null,
   "id": "74b7ceef",
   "metadata": {},
   "outputs": [],
   "source": [
    "# install requirements\n",
    "pip install datasets"
   ]
  },
  {
   "cell_type": "code",
   "execution_count": null,
   "id": "cfe716c5",
   "metadata": {},
   "outputs": [],
   "source": [
    "from datasets import load_dataset\n",
    "import pandas as pd"
   ]
  },
  {
   "cell_type": "code",
   "execution_count": null,
   "id": "d0863be2",
   "metadata": {},
   "outputs": [],
   "source": [
    "# load complete dataset\n",
    "dataset = load_dataset('multi_eurlex', language='all_languages')\n",
    "dataset"
   ]
  },
  {
   "cell_type": "code",
   "execution_count": null,
   "id": "915ce436",
   "metadata": {
    "scrolled": false
   },
   "outputs": [],
   "source": [
    "# take a chunk of 1000 texts out of the train split\n",
    "dataframe = pd.DataFrame(dataset['train']['text'][:1000])\n",
    "dataframe.head()"
   ]
  },
  {
   "cell_type": "code",
   "execution_count": null,
   "id": "b7592dcc",
   "metadata": {
    "scrolled": false
   },
   "outputs": [],
   "source": [
    "import os\n",
    "\n",
    "# store separate german text files in a new directory\n",
    "output_dir = \"de\"\n",
    "os.makedirs(output_dir)\n",
    "\n",
    "# dataframe in the 'language' column containing the text content\n",
    "for index, row in dataframe.iterrows():\n",
    "    # Construct filename using index identifier\n",
    "    filename = os.path.join(output_dir, f\"de_{index}.txt\")\n",
    "    \n",
    "    # Write the text content to the text file\n",
    "    with open(filename, \"w\", encoding='utf-8') as file:\n",
    "        file.write(row['de'])\n"
   ]
  },
  {
   "cell_type": "code",
   "execution_count": null,
   "id": "e60f8da4",
   "metadata": {},
   "outputs": [],
   "source": [
    "# store separate english text files in a new directory\n",
    "output_dir = \"en\"\n",
    "os.makedirs(output_dir, exist_ok=True)\n",
    "\n",
    "# dataframe in the 'language' column containing the text content\n",
    "for index, row in dataframe.iterrows():\n",
    "    # Construct filename using index identifier\n",
    "    filename = os.path.join(output_dir, f\"en_{index}.txt\")\n",
    "    \n",
    "    # Write the text content to the text file\n",
    "    with open(filename, \"w\", encoding='utf-8') as file:\n",
    "        file.write(row['en'])"
   ]
  },
  {
   "cell_type": "code",
   "execution_count": null,
   "id": "f66837df",
   "metadata": {},
   "outputs": [],
   "source": [
    "import os\n",
    "import re\n",
    " \n",
    "output_dir = r'C:\\Users\\Jannik\\Documents\\Uni\\Allgemeine Sprachwissenschaft\\Bachelorarbeit\\de_cleaned'\n",
    "pattern = re.compile(r\"^.*?(?=\" + re.escape(\"gestützt\") + \")\", re.DOTALL)\n",
    "#remove first part\n",
    "for name in os.listdir(output_dir):\n",
    "    filename = os.path.join(output_dir, name)\n",
    "    print(filename)\n",
    "    with open(filename, \"r\", encoding='utf-8') as file:\n",
    "        s = file.read()\n",
    "        with open(filename, \"w\", encoding='utf-8') as file:\n",
    "            no_intro = re.sub(pattern, \"\", s)\n",
    "            file.write(f'{no_intro}')"
   ]
  },
  {
   "cell_type": "code",
   "execution_count": null,
   "id": "457cdd86",
   "metadata": {},
   "outputs": [],
   "source": [
    "import os\n",
    "import re\n",
    " \n",
    "output_dir = r'C:\\Users\\Jannik\\Documents\\Uni\\Allgemeine Sprachwissenschaft\\Bachelorarbeit\\en_cleaned'\n",
    "pattern = re.compile(r\"^.*?(?=\" + re.escape(\"Having\") + \")\", re.DOTALL)\n",
    "#remove first part\n",
    "for name in os.listdir(output_dir):\n",
    "    filename = os.path.join(output_dir, name)\n",
    "    print(filename)\n",
    "    with open(filename, \"r\", encoding='utf-8') as file:\n",
    "        s = file.read()\n",
    "        with open(filename, \"w\", encoding='utf-8') as file:\n",
    "            no_intro = re.sub(pattern, \"\", s)\n",
    "            file.write(f'{no_intro}')"
   ]
  }
 ],
 "metadata": {
  "kernelspec": {
   "display_name": "Python 3 (ipykernel)",
   "language": "python",
   "name": "python3"
  },
  "language_info": {
   "codemirror_mode": {
    "name": "ipython",
    "version": 3
   },
   "file_extension": ".py",
   "mimetype": "text/x-python",
   "name": "python",
   "nbconvert_exporter": "python",
   "pygments_lexer": "ipython3",
   "version": "3.9.12"
  }
 },
 "nbformat": 4,
 "nbformat_minor": 5
}
